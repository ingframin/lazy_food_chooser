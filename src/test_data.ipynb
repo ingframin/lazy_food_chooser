{
 "cells": [
  {
   "cell_type": "code",
   "execution_count": 1,
   "metadata": {},
   "outputs": [],
   "source": [
    "from datamodel import *"
   ]
  },
  {
   "cell_type": "code",
   "execution_count": 2,
   "metadata": {},
   "outputs": [],
   "source": [
    "r = Recipe(\"Penne rigate al sugo\",[Meal.LUNCH],[Season.SUMMER, Season.WINTER],cold=False,prep_time_min=40)"
   ]
  },
  {
   "cell_type": "code",
   "execution_count": 3,
   "metadata": {},
   "outputs": [],
   "source": [
    "r.add_ingredient(Ingredient(Food(\"Penne rigate\",FoodType.PASTA,calories_100g=131),80))"
   ]
  },
  {
   "cell_type": "code",
   "execution_count": 4,
   "metadata": {},
   "outputs": [],
   "source": [
    "r.add_ingredient(Ingredient(Food(\"Passata di pomodoro\",FoodType.SAUCE,calories_100g=38,fridge=True),100))"
   ]
  },
  {
   "cell_type": "code",
   "execution_count": 5,
   "metadata": {},
   "outputs": [],
   "source": [
    "r.add_ingredient(Ingredient(Food(\"Basilico\",FoodType.SPICE,22),5))"
   ]
  },
  {
   "cell_type": "code",
   "execution_count": 6,
   "metadata": {},
   "outputs": [
    {
     "name": "stdout",
     "output_type": "stream",
     "text": [
      "[('Penne rigate', 400), ('Passata di pomodoro', 500), ('Basilico', 25)]\n"
     ]
    }
   ],
   "source": [
    "print(r.for_N_people(5))"
   ]
  }
 ],
 "metadata": {
  "kernelspec": {
   "display_name": "local",
   "language": "python",
   "name": "python3"
  },
  "language_info": {
   "codemirror_mode": {
    "name": "ipython",
    "version": 3
   },
   "file_extension": ".py",
   "mimetype": "text/x-python",
   "name": "python",
   "nbconvert_exporter": "python",
   "pygments_lexer": "ipython3",
   "version": "3.12.4"
  }
 },
 "nbformat": 4,
 "nbformat_minor": 2
}
